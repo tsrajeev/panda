{
 "cells": [
  {
   "cell_type": "code",
   "execution_count": null,
   "id": "c74b4eb5-4504-4e40-981f-ae172fe83a2b",
   "metadata": {},
   "outputs": [],
   "source": []
  }
 ],
 "metadata": {
  "kernelspec": {
   "display_name": "Python [conda env:pandas-playground]",
   "language": "python",
   "name": "conda-env-pandas-playground-py"
  },
  "language_info": {
   "codemirror_mode": {
    "name": "ipython",
    "version": 3
   },
   "file_extension": ".py",
   "mimetype": "text/x-python",
   "name": "python",
   "nbconvert_exporter": "python",
   "pygments_lexer": "ipython3",
   "version": "3.12.11"
  }
 },
 "nbformat": 4,
 "nbformat_minor": 5
}
